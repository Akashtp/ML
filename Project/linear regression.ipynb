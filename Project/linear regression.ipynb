{
 "cells": [
  {
   "cell_type": "markdown",
   "id": "a802f93d-3f96-43c9-9c62-02f98218909b",
   "metadata": {},
   "source": [
    "Linear regression"
   ]
  },
  {
   "cell_type": "code",
   "execution_count": 1,
   "id": "44181f80-51aa-4cac-9c61-aa587012094a",
   "metadata": {},
   "outputs": [],
   "source": [
    "matplotlib inline"
   ]
  },
  {
   "cell_type": "code",
   "execution_count": 2,
   "id": "558a62d1-c3cf-4560-a763-41524d428fb9",
   "metadata": {},
   "outputs": [],
   "source": [
    "import pandas as pd\n",
    "import numpy as np"
   ]
  },
  {
   "cell_type": "code",
   "execution_count": 45,
   "id": "d963bed6-34b1-4079-8c5d-5f6650f971ee",
   "metadata": {},
   "outputs": [
    {
     "data": {
      "text/html": [
       "<div>\n",
       "<style scoped>\n",
       "    .dataframe tbody tr th:only-of-type {\n",
       "        vertical-align: middle;\n",
       "    }\n",
       "\n",
       "    .dataframe tbody tr th {\n",
       "        vertical-align: top;\n",
       "    }\n",
       "\n",
       "    .dataframe thead th {\n",
       "        text-align: right;\n",
       "    }\n",
       "</style>\n",
       "<table border=\"1\" class=\"dataframe\">\n",
       "  <thead>\n",
       "    <tr style=\"text-align: right;\">\n",
       "      <th></th>\n",
       "      <th>Name</th>\n",
       "      <th>Account</th>\n",
       "      <th>Joining\\nlocation</th>\n",
       "      <th>Quarter</th>\n",
       "      <th>Status</th>\n",
       "    </tr>\n",
       "  </thead>\n",
       "  <tbody>\n",
       "    <tr>\n",
       "      <th>0</th>\n",
       "      <td>Akansha Saxena</td>\n",
       "      <td>GE</td>\n",
       "      <td>Bangalore</td>\n",
       "      <td>FY21 Q1</td>\n",
       "      <td>Joined</td>\n",
       "    </tr>\n",
       "    <tr>\n",
       "      <th>1</th>\n",
       "      <td>Suryaprakash E</td>\n",
       "      <td>Invidi</td>\n",
       "      <td>Chennai</td>\n",
       "      <td>FY21 Q1</td>\n",
       "      <td>Joined</td>\n",
       "    </tr>\n",
       "    <tr>\n",
       "      <th>2</th>\n",
       "      <td>Vinosh Yalla</td>\n",
       "      <td>Multichoice</td>\n",
       "      <td>Bangalore</td>\n",
       "      <td>FY21 Q1</td>\n",
       "      <td>Joined</td>\n",
       "    </tr>\n",
       "    <tr>\n",
       "      <th>3</th>\n",
       "      <td>Vinoth P</td>\n",
       "      <td>Invidi</td>\n",
       "      <td>Chennai</td>\n",
       "      <td>FY21 Q1</td>\n",
       "      <td>Declined</td>\n",
       "    </tr>\n",
       "    <tr>\n",
       "      <th>4</th>\n",
       "      <td>Balaji J</td>\n",
       "      <td>Invidi</td>\n",
       "      <td>Chennai</td>\n",
       "      <td>FY21 Q2</td>\n",
       "      <td>Joined</td>\n",
       "    </tr>\n",
       "    <tr>\n",
       "      <th>5</th>\n",
       "      <td>Manisankar Dixit</td>\n",
       "      <td>ABB</td>\n",
       "      <td>Bangalore</td>\n",
       "      <td>FY21 Q2</td>\n",
       "      <td>Joined</td>\n",
       "    </tr>\n",
       "    <tr>\n",
       "      <th>6</th>\n",
       "      <td>D Remi Prasanna</td>\n",
       "      <td>Invidi</td>\n",
       "      <td>Chennai</td>\n",
       "      <td>FY21 Q2</td>\n",
       "      <td>Declined</td>\n",
       "    </tr>\n",
       "    <tr>\n",
       "      <th>7</th>\n",
       "      <td>Vaishnavi Ashokrao Umrekar</td>\n",
       "      <td>ABB</td>\n",
       "      <td>Bangalore</td>\n",
       "      <td>FY21 Q2</td>\n",
       "      <td>Declined</td>\n",
       "    </tr>\n",
       "    <tr>\n",
       "      <th>8</th>\n",
       "      <td>Suganthi Janakiraman</td>\n",
       "      <td>ABB</td>\n",
       "      <td>Bangalore</td>\n",
       "      <td>FY21 Q2</td>\n",
       "      <td>Declined</td>\n",
       "    </tr>\n",
       "    <tr>\n",
       "      <th>9</th>\n",
       "      <td>Nageshwari</td>\n",
       "      <td>Multichoice</td>\n",
       "      <td>Bangalore</td>\n",
       "      <td>FY21 Q2</td>\n",
       "      <td>Joined</td>\n",
       "    </tr>\n",
       "    <tr>\n",
       "      <th>10</th>\n",
       "      <td>Naresh Kumar Kanakam</td>\n",
       "      <td>Multichoice</td>\n",
       "      <td>Bangalore</td>\n",
       "      <td>FY21 Q2</td>\n",
       "      <td>Joined</td>\n",
       "    </tr>\n",
       "    <tr>\n",
       "      <th>11</th>\n",
       "      <td>Sherin M K</td>\n",
       "      <td>Multichoice</td>\n",
       "      <td>Bangalore</td>\n",
       "      <td>FY21 Q2</td>\n",
       "      <td>Joined</td>\n",
       "    </tr>\n",
       "    <tr>\n",
       "      <th>12</th>\n",
       "      <td>Minhajuddin Ahmed</td>\n",
       "      <td>ABB</td>\n",
       "      <td>Bangalore</td>\n",
       "      <td>FY21 Q2</td>\n",
       "      <td>Joined</td>\n",
       "    </tr>\n",
       "    <tr>\n",
       "      <th>13</th>\n",
       "      <td>Aditya Borah</td>\n",
       "      <td>Viavi</td>\n",
       "      <td>Bangalore</td>\n",
       "      <td>FY21 Q2</td>\n",
       "      <td>Joined</td>\n",
       "    </tr>\n",
       "    <tr>\n",
       "      <th>14</th>\n",
       "      <td>Dinesh S H</td>\n",
       "      <td>MBC/Multichoice</td>\n",
       "      <td>Bangalore</td>\n",
       "      <td>FY21 Q2</td>\n",
       "      <td>Joined</td>\n",
       "    </tr>\n",
       "    <tr>\n",
       "      <th>15</th>\n",
       "      <td>Niharika Sharma</td>\n",
       "      <td>Comcast</td>\n",
       "      <td>Bangalore</td>\n",
       "      <td>FY21 Q2</td>\n",
       "      <td>Joined</td>\n",
       "    </tr>\n",
       "    <tr>\n",
       "      <th>16</th>\n",
       "      <td>Ramya Mandhal</td>\n",
       "      <td>ABB</td>\n",
       "      <td>Bangalore</td>\n",
       "      <td>FY21 Q3</td>\n",
       "      <td>Joined</td>\n",
       "    </tr>\n",
       "    <tr>\n",
       "      <th>17</th>\n",
       "      <td>Ajit T Alias</td>\n",
       "      <td>Multichoice</td>\n",
       "      <td>Bangalore</td>\n",
       "      <td>FY21 Q3</td>\n",
       "      <td>Joined</td>\n",
       "    </tr>\n",
       "  </tbody>\n",
       "</table>\n",
       "</div>"
      ],
      "text/plain": [
       "                          Name          Account Joining\\nlocation  Quarter  \\\n",
       "0               Akansha Saxena               GE         Bangalore  FY21 Q1   \n",
       "1              Suryaprakash E            Invidi           Chennai  FY21 Q1   \n",
       "2                 Vinosh Yalla      Multichoice         Bangalore  FY21 Q1   \n",
       "3                     Vinoth P           Invidi           Chennai  FY21 Q1   \n",
       "4                     Balaji J           Invidi           Chennai  FY21 Q2   \n",
       "5             Manisankar Dixit              ABB         Bangalore  FY21 Q2   \n",
       "6              D Remi Prasanna           Invidi           Chennai  FY21 Q2   \n",
       "7   Vaishnavi Ashokrao Umrekar              ABB         Bangalore  FY21 Q2   \n",
       "8         Suganthi Janakiraman              ABB         Bangalore  FY21 Q2   \n",
       "9                   Nageshwari      Multichoice         Bangalore  FY21 Q2   \n",
       "10        Naresh Kumar Kanakam      Multichoice         Bangalore  FY21 Q2   \n",
       "11                  Sherin M K      Multichoice         Bangalore  FY21 Q2   \n",
       "12          Minhajuddin Ahmed               ABB         Bangalore  FY21 Q2   \n",
       "13                Aditya Borah            Viavi         Bangalore  FY21 Q2   \n",
       "14                 Dinesh S H   MBC/Multichoice         Bangalore  FY21 Q2   \n",
       "15             Niharika Sharma          Comcast         Bangalore  FY21 Q2   \n",
       "16               Ramya Mandhal              ABB         Bangalore  FY21 Q3   \n",
       "17                Ajit T Alias      Multichoice         Bangalore  FY21 Q3   \n",
       "\n",
       "      Status  \n",
       "0     Joined  \n",
       "1     Joined  \n",
       "2     Joined  \n",
       "3   Declined  \n",
       "4     Joined  \n",
       "5     Joined  \n",
       "6   Declined  \n",
       "7   Declined  \n",
       "8   Declined  \n",
       "9     Joined  \n",
       "10    Joined  \n",
       "11    Joined  \n",
       "12    Joined  \n",
       "13    Joined  \n",
       "14    Joined  \n",
       "15    Joined  \n",
       "16    Joined  \n",
       "17    Joined  "
      ]
     },
     "execution_count": 45,
     "metadata": {},
     "output_type": "execute_result"
    }
   ],
   "source": [
    "data = pd.read_excel(\"Book.xlsx\", usecols = 'A,E,F,J,M' )\n",
    "data"
   ]
  },
  {
   "cell_type": "markdown",
   "id": "ec5cf6c9-b264-42ba-9324-76c0b506b7cc",
   "metadata": {},
   "source": [
    "Splitting dependant and independant variables."
   ]
  },
  {
   "cell_type": "code",
   "execution_count": 46,
   "id": "114c9179-cb14-4c2e-87b1-ed3bbad975ee",
   "metadata": {},
   "outputs": [
    {
     "name": "stdout",
     "output_type": "stream",
     "text": [
      "[['Akansha Saxena' 'GE' 'Bangalore' 'FY21 Q1']\n",
      " ['Suryaprakash E ' 'Invidi' 'Chennai' 'FY21 Q1']\n",
      " ['Vinosh Yalla' 'Multichoice' 'Bangalore' 'FY21 Q1']\n",
      " ['Vinoth P' 'Invidi' 'Chennai' 'FY21 Q1']\n",
      " ['Balaji J' 'Invidi' 'Chennai' 'FY21 Q2']\n",
      " ['Manisankar Dixit' 'ABB' 'Bangalore' 'FY21 Q2']\n",
      " ['D Remi Prasanna' 'Invidi' 'Chennai' 'FY21 Q2']\n",
      " ['Vaishnavi Ashokrao Umrekar' 'ABB' 'Bangalore' 'FY21 Q2']\n",
      " ['Suganthi Janakiraman' 'ABB' 'Bangalore' 'FY21 Q2']\n",
      " ['Nageshwari' 'Multichoice' 'Bangalore' 'FY21 Q2']\n",
      " ['Naresh Kumar Kanakam' 'Multichoice' 'Bangalore' 'FY21 Q2']\n",
      " ['Sherin M K' 'Multichoice' 'Bangalore' 'FY21 Q2']\n",
      " ['Minhajuddin Ahmed ' 'ABB' 'Bangalore' 'FY21 Q2']\n",
      " ['Aditya Borah' 'Viavi' 'Bangalore' 'FY21 Q2']\n",
      " ['Dinesh S H ' 'MBC/Multichoice' 'Bangalore' 'FY21 Q2']\n",
      " ['Niharika Sharma' 'Comcast' 'Bangalore' 'FY21 Q2']\n",
      " ['Ramya Mandhal' 'ABB' 'Bangalore' 'FY21 Q3']\n",
      " ['Ajit T Alias' 'Multichoice' 'Bangalore' 'FY21 Q3']]\n"
     ]
    }
   ],
   "source": [
    "X = data.iloc[:, :-1 ].values\n",
    "print(X)"
   ]
  },
  {
   "cell_type": "code",
   "execution_count": 33,
   "id": "14396c5f-e934-459a-b858-4574f5c78d4a",
   "metadata": {},
   "outputs": [
    {
     "name": "stdout",
     "output_type": "stream",
     "text": [
      "['Joined' 'Joined' 'Joined' 'Declined' 'Joined' 'Joined' 'Declined'\n",
      " 'Declined' 'Declined' 'Joined' 'Joined' 'Joined' 'Joined' 'Joined'\n",
      " 'Joined' 'Joined' 'Joined' 'Joined']\n"
     ]
    }
   ],
   "source": [
    "y = data.iloc[ : , -1].values\n",
    "print(y)"
   ]
  },
  {
   "cell_type": "code",
   "execution_count": 6,
   "id": "c15b72c3-2d00-441d-8285-276b73794bf4",
   "metadata": {},
   "outputs": [
    {
     "name": "stdout",
     "output_type": "stream",
     "text": [
      "<class 'pandas.core.frame.DataFrame'>\n",
      "RangeIndex: 18 entries, 0 to 17\n",
      "Data columns (total 5 columns):\n",
      " #   Column            Non-Null Count  Dtype  \n",
      "---  ------            --------------  -----  \n",
      " 0   Name              18 non-null     object \n",
      " 1   Account           18 non-null     object \n",
      " 2   Joining\n",
      "location  18 non-null     object \n",
      " 3   Unnamed: 6        0 non-null      float64\n",
      " 4   Quarter           18 non-null     object \n",
      "dtypes: float64(1), object(4)\n",
      "memory usage: 848.0+ bytes\n"
     ]
    }
   ],
   "source": [
    "data.info()"
   ]
  },
  {
   "cell_type": "markdown",
   "id": "ac11c106-bbf6-46ca-ada3-5a1f7f600344",
   "metadata": {},
   "source": [
    "Encoding categorical data."
   ]
  },
  {
   "cell_type": "code",
   "execution_count": 47,
   "id": "7027310d-460a-4ba5-aed3-cc00c4643424",
   "metadata": {},
   "outputs": [],
   "source": [
    "from sklearn.compose import ColumnTransformer\n",
    "from sklearn.preprocessing import OneHotEncoder\n",
    "ct = ColumnTransformer(transformers = [('encoder', OneHotEncoder(), [1,2,3])], remainder='passthrough')\n",
    "X = np.array(ct.fit_transform(X))"
   ]
  },
  {
   "cell_type": "code",
   "execution_count": 48,
   "id": "1c7862e5-d50f-4383-84af-858a81419324",
   "metadata": {},
   "outputs": [
    {
     "name": "stdout",
     "output_type": "stream",
     "text": [
      "[[0.0 0.0 1.0 0.0 0.0 0.0 0.0 1.0 0.0 1.0 0.0 0.0 'Akansha Saxena']\n",
      " [0.0 0.0 0.0 1.0 0.0 0.0 0.0 0.0 1.0 1.0 0.0 0.0 'Suryaprakash E ']\n",
      " [0.0 0.0 0.0 0.0 0.0 1.0 0.0 1.0 0.0 1.0 0.0 0.0 'Vinosh Yalla']\n",
      " [0.0 0.0 0.0 1.0 0.0 0.0 0.0 0.0 1.0 1.0 0.0 0.0 'Vinoth P']\n",
      " [0.0 0.0 0.0 1.0 0.0 0.0 0.0 0.0 1.0 0.0 1.0 0.0 'Balaji J']\n",
      " [1.0 0.0 0.0 0.0 0.0 0.0 0.0 1.0 0.0 0.0 1.0 0.0 'Manisankar Dixit']\n",
      " [0.0 0.0 0.0 1.0 0.0 0.0 0.0 0.0 1.0 0.0 1.0 0.0 'D Remi Prasanna']\n",
      " [1.0 0.0 0.0 0.0 0.0 0.0 0.0 1.0 0.0 0.0 1.0 0.0\n",
      "  'Vaishnavi Ashokrao Umrekar']\n",
      " [1.0 0.0 0.0 0.0 0.0 0.0 0.0 1.0 0.0 0.0 1.0 0.0 'Suganthi Janakiraman']\n",
      " [0.0 0.0 0.0 0.0 0.0 1.0 0.0 1.0 0.0 0.0 1.0 0.0 'Nageshwari']\n",
      " [0.0 0.0 0.0 0.0 0.0 1.0 0.0 1.0 0.0 0.0 1.0 0.0 'Naresh Kumar Kanakam']\n",
      " [0.0 0.0 0.0 0.0 0.0 1.0 0.0 1.0 0.0 0.0 1.0 0.0 'Sherin M K']\n",
      " [1.0 0.0 0.0 0.0 0.0 0.0 0.0 1.0 0.0 0.0 1.0 0.0 'Minhajuddin Ahmed ']\n",
      " [0.0 0.0 0.0 0.0 0.0 0.0 1.0 1.0 0.0 0.0 1.0 0.0 'Aditya Borah']\n",
      " [0.0 0.0 0.0 0.0 1.0 0.0 0.0 1.0 0.0 0.0 1.0 0.0 'Dinesh S H ']\n",
      " [0.0 1.0 0.0 0.0 0.0 0.0 0.0 1.0 0.0 0.0 1.0 0.0 'Niharika Sharma']\n",
      " [1.0 0.0 0.0 0.0 0.0 0.0 0.0 1.0 0.0 0.0 0.0 1.0 'Ramya Mandhal']\n",
      " [0.0 0.0 0.0 0.0 0.0 1.0 0.0 1.0 0.0 0.0 0.0 1.0 'Ajit T Alias']]\n"
     ]
    }
   ],
   "source": [
    "print(X)"
   ]
  },
  {
   "cell_type": "code",
   "execution_count": 34,
   "id": "40958846-0640-437d-ac6b-bce278dc03b3",
   "metadata": {},
   "outputs": [],
   "source": [
    "from sklearn.preprocessing import LabelEncoder\n",
    "le  = LabelEncoder()\n",
    "y = le.fit_transform(y)"
   ]
  },
  {
   "cell_type": "code",
   "execution_count": 35,
   "id": "36be659d-1546-498a-a4ff-bf7c99d04ea4",
   "metadata": {},
   "outputs": [
    {
     "name": "stdout",
     "output_type": "stream",
     "text": [
      "[1 1 1 0 1 1 0 0 0 1 1 1 1 1 1 1 1 1]\n"
     ]
    }
   ],
   "source": [
    "print(y)"
   ]
  }
 ],
 "metadata": {
  "kernelspec": {
   "display_name": "Python 3 (ipykernel)",
   "language": "python",
   "name": "python3"
  },
  "language_info": {
   "codemirror_mode": {
    "name": "ipython",
    "version": 3
   },
   "file_extension": ".py",
   "mimetype": "text/x-python",
   "name": "python",
   "nbconvert_exporter": "python",
   "pygments_lexer": "ipython3",
   "version": "3.9.12"
  }
 },
 "nbformat": 4,
 "nbformat_minor": 5
}
